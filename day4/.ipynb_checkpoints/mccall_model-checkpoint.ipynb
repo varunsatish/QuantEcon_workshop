{
 "cells": [
  {
   "cell_type": "markdown",
   "metadata": {},
   "source": [
    "\n",
    "<a id='mccall'></a>\n",
    "<div id=\"qe-notebook-header\" align=\"right\" style=\"text-align:right;\">\n",
    "        <a href=\"https://quantecon.org/\" title=\"quantecon.org\">\n",
    "                <img style=\"width:250px;display:inline;\" width=\"250px\" src=\"https://assets.quantecon.org/img/qe-menubar-logo.svg\" alt=\"QuantEcon\">\n",
    "        </a>\n",
    "</div>"
   ]
  },
  {
   "cell_type": "markdown",
   "metadata": {},
   "source": [
    "# Job Search I: The McCall Search Model"
   ]
  },
  {
   "cell_type": "markdown",
   "metadata": {},
   "source": [
    "## Contents\n",
    "\n",
    "- [Job Search I: The McCall Search Model](#Job-Search-I:-The-McCall-Search-Model)  \n",
    "  - [Overview](#Overview)  \n",
    "  - [The McCall Model](#The-McCall-Model)  \n",
    "  - [Computing the Optimal Policy: Take 1](#Computing-the-Optimal-Policy:-Take-1)  \n",
    "  - [Computing the Optimal Policy: Take 2](#Computing-the-Optimal-Policy:-Take-2)  \n",
    "  - [Exercises](#Exercises)  "
   ]
  },
  {
   "cell_type": "markdown",
   "metadata": {},
   "source": [
    "> “Questioning a McCall worker is like having a conversation with an out-of-work friend:\n",
    "> ‘Maybe you are setting your sights too high’, or ‘Why did you quit your old job before you\n",
    "> had a new one lined up?’ This is real social science: an attempt to model, to understand,\n",
    "> human behavior by visualizing the situation people find themselves in, the options they face\n",
    "> and the pros and cons as they themselves see them.” – Robert E. Lucas, Jr.\n",
    "\n",
    "\n",
    "In addition to what’s in Anaconda, this lecture will need the following libraries:"
   ]
  },
  {
   "cell_type": "code",
   "execution_count": 2,
   "metadata": {
    "hide-output": true
   },
   "outputs": [
    {
     "name": "stdout",
     "output_type": "stream",
     "text": [
      "Requirement already up-to-date: quantecon in /usr/local/lib/python3.7/site-packages (0.4.6)\n",
      "Requirement already satisfied, skipping upgrade: numba>=0.38 in /usr/local/lib/python3.7/site-packages (from quantecon) (0.46.0)\n",
      "Requirement already satisfied, skipping upgrade: requests in /usr/local/lib/python3.7/site-packages (from quantecon) (2.21.0)\n",
      "Requirement already satisfied, skipping upgrade: sympy in /usr/local/lib/python3.7/site-packages (from quantecon) (1.5)\n",
      "Requirement already satisfied, skipping upgrade: scipy>=1.0.0 in /usr/local/lib/python3.7/site-packages (from quantecon) (1.2.1)\n",
      "Requirement already satisfied, skipping upgrade: numpy in /usr/local/lib/python3.7/site-packages (from quantecon) (1.17.4)\n",
      "Requirement already satisfied, skipping upgrade: llvmlite>=0.30.0dev0 in /usr/local/lib/python3.7/site-packages (from numba>=0.38->quantecon) (0.30.0)\n",
      "Requirement already satisfied, skipping upgrade: urllib3<1.25,>=1.21.1 in /usr/local/lib/python3.7/site-packages (from requests->quantecon) (1.24.1)\n",
      "Requirement already satisfied, skipping upgrade: idna<2.9,>=2.5 in /usr/local/lib/python3.7/site-packages (from requests->quantecon) (2.8)\n",
      "Requirement already satisfied, skipping upgrade: chardet<3.1.0,>=3.0.2 in /usr/local/lib/python3.7/site-packages (from requests->quantecon) (3.0.4)\n",
      "Requirement already satisfied, skipping upgrade: certifi>=2017.4.17 in /usr/local/lib/python3.7/site-packages (from requests->quantecon) (2018.11.29)\n",
      "Requirement already satisfied, skipping upgrade: mpmath>=0.19 in /usr/local/lib/python3.7/site-packages (from sympy->quantecon) (1.1.0)\n"
     ]
    }
   ],
   "source": [
    "!pip install --upgrade quantecon"
   ]
  },
  {
   "cell_type": "markdown",
   "metadata": {},
   "source": [
    "## Overview\n",
    "\n",
    "The McCall search model [[McC70]](zreferences.ipynb#mccall1970) helped transform economists’ way of thinking about labor markets.\n",
    "\n",
    "To clarify vague notions such as “involuntary” unemployment, McCall modeled the decision problem of unemployed agents directly, in terms of factors such as\n",
    "\n",
    "- current and likely future wages  \n",
    "- impatience  \n",
    "- unemployment compensation  \n",
    "\n",
    "\n",
    "To solve the decision problem he used dynamic programming.\n",
    "\n",
    "Here we set up McCall’s model and adopt the same solution method.\n",
    "\n",
    "As we’ll see, McCall’s model is not only interesting in its own right but also an excellent vehicle for learning dynamic programming.\n",
    "\n",
    "Let’s start with some imports:"
   ]
  },
  {
   "cell_type": "code",
   "execution_count": 3,
   "metadata": {
    "hide-output": false
   },
   "outputs": [],
   "source": [
    "import numpy as np\n",
    "from numba import jit, jitclass, float64\n",
    "import matplotlib.pyplot as plt\n",
    "%matplotlib inline\n",
    "import quantecon as qe\n",
    "from quantecon.distributions import BetaBinomial"
   ]
  },
  {
   "cell_type": "markdown",
   "metadata": {},
   "source": [
    "## The McCall Model\n",
    "\n",
    "\n",
    "<a id='index-0'></a>\n",
    "An unemployed agent receives in each period a job offer at wage $ w_t $.\n",
    "\n",
    "The wage offer is a nonnegative function of some underlying state:\n",
    "\n",
    "$$\n",
    "w_t = w(s_t) \\quad \\text{where } \\; s_t \\in \\mathbb{S}\n",
    "$$\n",
    "\n",
    "Here you should think of state process $ \\{s_t\\} $ as some underlying, unspecified\n",
    "random factor that impacts on wages.\n",
    "\n",
    "(Introducing an exogenous stochastic state process is a standard way for\n",
    "economists to inject randomness into their models.)\n",
    "\n",
    "In this lecture, we adopt the following simple environment:\n",
    "\n",
    "- $ \\{s_t\\} $ is IID, with $ q(s) $ being the probability of observing state $ s $ in $ \\mathbb{S} $ at each point in time, and  \n",
    "- the agent observes $ s_t $ at the start of $ t $ and hence knows\n",
    "  $ w_t = w(s_t) $,  \n",
    "- the set $ \\mathbb S $ is finite.  \n",
    "\n",
    "\n",
    "(In later lectures, we will relax all of these assumptions.)\n",
    "\n",
    "At time $ t $, our agent has two choices:\n",
    "\n",
    "1. Accept the offer and work permanently at constant wage $ w_t $.  \n",
    "1. Reject the offer, receive unemployment compensation $ c $, and reconsider next period.  \n",
    "\n",
    "\n",
    "The agent is infinitely lived and aims to maximize the expected discounted\n",
    "sum of earnings\n",
    "\n",
    "$$\n",
    "\\mathbb{E} \\sum_{t=0}^{\\infty} \\beta^t y_t\n",
    "$$\n",
    "\n",
    "The constant $ \\beta $ lies in $ (0, 1) $ and is called a **discount factor**.\n",
    "\n",
    "The smaller is $ \\beta $, the more the agent discounts future utility relative to current utility.\n",
    "\n",
    "The variable  $ y_t $ is income, equal to\n",
    "\n",
    "- his/her wage $ w_t $ when employed  \n",
    "- unemployment compensation $ c $ when unemployed  \n",
    "\n",
    "\n",
    "The agent is assumed to know that $ \\{s_t\\} $ is IID with common\n",
    "distribution $ q $ and can use this when computing expectations."
   ]
  },
  {
   "cell_type": "markdown",
   "metadata": {},
   "source": [
    "### A Trade-Off\n",
    "\n",
    "The worker faces a trade-off:\n",
    "\n",
    "- Waiting too long for a good offer is costly, since the future is discounted.  \n",
    "- Accepting too early is costly, since better offers might arrive in the future.  \n",
    "\n",
    "\n",
    "To decide optimally in the face of this trade-off, we use dynamic programming.\n",
    "\n",
    "Dynamic programming can be thought of as a two-step procedure that\n",
    "\n",
    "1. first assigns values to “states” and  \n",
    "1. then deduces optimal actions given those values  \n",
    "\n",
    "\n",
    "We’ll go through these steps in turn."
   ]
  },
  {
   "cell_type": "markdown",
   "metadata": {},
   "source": [
    "### The Value Function\n",
    "\n",
    "In order to optimally trade-off current and future rewards, we need to think about two things:\n",
    "\n",
    "1. the current payoffs we get from different choices  \n",
    "1. the different states that those choices will lead to in next period (in this case, either employment or unemployment)  \n",
    "\n",
    "\n",
    "To weigh these two aspects of the decision problem, we need to assign *values*\n",
    "to states.\n",
    "\n",
    "To this end, let $ v^*(s) $ be the total lifetime *value* accruing to an\n",
    "unemployed worker who enters the current period unemployed when the state is\n",
    "$ s \\in \\mathbb{S} $.\n",
    "\n",
    "In particular, the agent has wage offer $ w(s) $ in hand.\n",
    "\n",
    "More precisely, $ v^*(s) $ denotes the value of the objective function\n",
    "[(1)](mccall_model_with_separation.ipynb#equation-objective) when an agent in this situation makes *optimal* decisions now\n",
    "and at all future points in time.\n",
    "\n",
    "Of course $ v^*(s) $ is not trivial to calculate because we don’t yet know\n",
    "what decisions are optimal and what aren’t!\n",
    "\n",
    "But think of $ v^* $ as a function that assigns to each possible state\n",
    "$ s $ the maximal lifetime value that can be obtained with that offer in\n",
    "hand.\n",
    "\n",
    "A crucial observation is that this function $ v^* $ must satisfy the\n",
    "recursion\n",
    "\n",
    "\n",
    "<a id='equation-odu-pv'></a>\n",
    "$$\n",
    "v^*(s)\n",
    "= \\max \\left\\{\n",
    "        \\frac{w(s)}{1 - \\beta}, \\, c + \\beta\n",
    "        \\sum_{s' \\in \\mathbb{S}} v^*(s') q (s')\n",
    "    \\right\\} \\tag{1}\n",
    "$$\n",
    "\n",
    "for every possible $ s $  in $ \\mathbb S $.\n",
    "\n",
    "This important equation is a version of the **Bellman equation**, which is\n",
    "ubiquitous in economic dynamics and other fields involving planning over time.\n",
    "\n",
    "The intuition behind it is as follows:\n",
    "\n",
    "- the first term inside the max operation is the lifetime payoff from accepting current offer, since  \n",
    "\n",
    "\n",
    "$$\n",
    "\\frac{w(s)}{1 - \\beta} = w(s) + \\beta w(s) + \\beta^2 w(s) + \\cdots\n",
    "$$\n",
    "\n",
    "- the second term inside the max operation is the **continuation value**, which is the lifetime payoff from rejecting the current offer and then behaving optimally in all subsequent periods  \n",
    "\n",
    "\n",
    "If we optimize and pick the best of these two options, we obtain maximal lifetime value from today, given current state $ s $.\n",
    "\n",
    "But this is precisely $ v^*(s) $, which is the l.h.s. of [(1)](#equation-odu-pv)."
   ]
  },
  {
   "cell_type": "markdown",
   "metadata": {},
   "source": [
    "### The Optimal Policy\n",
    "\n",
    "Suppose for now that we are able to solve [(1)](#equation-odu-pv) for the unknown\n",
    "function $ v^* $.\n",
    "\n",
    "Once we have this function in hand we can behave optimally (i.e., make the\n",
    "right choice between accept and reject).\n",
    "\n",
    "All we have to do is select the maximal choice on the r.h.s. of [(1)](#equation-odu-pv).\n",
    "\n",
    "The optimal action is best thought of as a **policy**, which is, in general, a map from\n",
    "states to actions.\n",
    "\n",
    "Given *any* $ s $, we can read off the corresponding best choice (accept or\n",
    "reject) by picking the max on the r.h.s. of [(1)](#equation-odu-pv).\n",
    "\n",
    "Thus, we have a map from $ \\mathbb R $ to $ \\{0, 1\\} $, with 1 meaning accept and 0 meaning reject.\n",
    "\n",
    "We can write the policy as follows\n",
    "\n",
    "$$\n",
    "\\sigma(s) := \\mathbf{1}\n",
    "    \\left\\{\n",
    "        \\frac{w(s)}{1 - \\beta} \\geq c + \\beta \\sum_{s' \\in \\mathbb S}\n",
    "        v^*(s') q (s')\n",
    "    \\right\\}\n",
    "$$\n",
    "\n",
    "Here $ \\mathbf{1}\\{ P \\} = 1 $ if statement $ P $ is true and equals 0 otherwise.\n",
    "\n",
    "We can also write this as\n",
    "\n",
    "$$\n",
    "\\sigma(s) := \\mathbf{1} \\{ w(s) \\geq \\bar w \\}\n",
    "$$\n",
    "\n",
    "where\n",
    "\n",
    "\n",
    "<a id='equation-reswage'></a>\n",
    "$$\n",
    "\\bar w := (1 - \\beta) \\left\\{ c + \\beta \\sum_{s'} v^*(s') q (s') \\right\\} \\tag{2}\n",
    "$$\n",
    "\n",
    "Here $ \\bar w $ (called the *reservation wage*) is a constant depending on $ \\beta, c $ and the wage distribution.\n",
    "\n",
    "The agent should accept if and only if the current wage offer exceeds the reservation wage.\n",
    "\n",
    "In view of [(2)](#equation-reswage), we can compute this reservation wage if we can compute the value function."
   ]
  },
  {
   "cell_type": "markdown",
   "metadata": {},
   "source": [
    "## Computing the Optimal Policy: Take 1\n",
    "\n",
    "To put the above ideas into action, we need to compute the value function at\n",
    "each possible state $ s \\in \\mathbb S $.\n",
    "\n",
    "Let’s suppose that $ \\mathbb S = \\{1, \\ldots, n\\} $.\n",
    "\n",
    "The value function is then represented by the vector $ v^* =\n",
    "(v^*(i))_{i=1}^n $.\n",
    "\n",
    "In view of [(1)](#equation-odu-pv), this vector satisfies the nonlinear system of equations\n",
    "\n",
    "\n",
    "<a id='equation-odu-pv2'></a>\n",
    "$$\n",
    "v^*(i)\n",
    "= \\max \\left\\{\n",
    "        \\frac{w(i)}{1 - \\beta}, \\, c + \\beta \\sum_{1 \\leq j \\leq n}\n",
    "            v^*(j) q (j)\n",
    "    \\right\\}\n",
    "\\quad\n",
    "\\text{for } i = 1, \\ldots, n \\tag{3}\n",
    "$$"
   ]
  },
  {
   "cell_type": "markdown",
   "metadata": {},
   "source": [
    "### The Algorithm\n",
    "\n",
    "To compute this vector, we use successive approximations:\n",
    "\n",
    "Step 1: pick an arbitrary initial guess $ v \\in \\mathbb R^n $.\n",
    "\n",
    "Step 2: compute a new vector $ v' \\in \\mathbb R^n $ via\n",
    "\n",
    "\n",
    "<a id='equation-odu-pv2p'></a>\n",
    "$$\n",
    "v'(i)\n",
    "= \\max \\left\\{\n",
    "        \\frac{w(i)}{1 - \\beta}, \\, c + \\beta \\sum_{1 \\leq j \\leq n}\n",
    "            v^*(j) q (j)\n",
    "    \\right\\}\n",
    "\\quad\n",
    "\\text{for } i = 1, \\ldots, n \\tag{4}\n",
    "$$\n",
    "\n",
    "Step 3: calculate a measure of the deviation between $ v $ and $ v' $, such as $ \\max_i |v(i)- v(i')| $.\n",
    "\n",
    "Step 4: if the deviation is larger than some fixed tolerance, set $ v = v' $ and go to step 2, else continue.\n",
    "\n",
    "Step 5: return $ v $.\n",
    "\n",
    "Let $ \\{ v_k \\} $ denote the sequence genererated by this algorithm.\n",
    "\n",
    "This sequence converges to the solution\n",
    "to [(3)](#equation-odu-pv2) as $ k \\to \\infty $, which is the value function $ v^* $."
   ]
  },
  {
   "cell_type": "markdown",
   "metadata": {},
   "source": [
    "### The Fixed Point Theory\n",
    "\n",
    "What’s the mathematics behind these ideas?\n",
    "\n",
    "First, one defines a mapping $ T $ from $ \\mathbb R^n $ to\n",
    "itself via\n",
    "\n",
    "\n",
    "<a id='equation-odu-pv3'></a>\n",
    "$$\n",
    "(Tv)(i)\n",
    "= \\max \\left\\{\n",
    "        \\frac{w(i)}{1 - \\beta}, \\, c + \\beta \\sum_{1 \\leq j \\leq n}\n",
    "            v^*(j) q (j)\n",
    "    \\right\\}\n",
    "\\quad\n",
    "\\text{for } i = 1, \\ldots, n \\tag{5}\n",
    "$$\n",
    "\n",
    "(A new vector $ Tv $ is obtained from given vector $ v $ by evaluating\n",
    "the r.h.s. at each $ i $)\n",
    "\n",
    "The element $ v_k $ in the sequence $ \\{v_k\\} $ of successive\n",
    "approximations corresponds to $ T^k v $.\n",
    "\n",
    "- This is $ T $ applied $ k $ times, starting at the initial guess\n",
    "  $ v $  \n",
    "\n",
    "\n",
    "One can show that the conditions of the [Banach fixed point theorem](https://en.wikipedia.org/wiki/Banach_fixed-point_theorem) are\n",
    "satisfied by $ T $ on $ \\mathbb R^n $.\n",
    "\n",
    "One implication is that $ T $ has a unique fixed point in $ \\mathbb R^n $.\n",
    "\n",
    "- That is, a unique vector $ \\bar v $ such that $ T \\bar v = \\bar v $.  \n",
    "\n",
    "\n",
    "Moreover, it’s immediate from the definition of $ T $ that this fixed\n",
    "point is $ v^* $.\n",
    "\n",
    "A second implication of the  Banach contraction mapping theorem is that\n",
    "$ \\{ T^k v \\} $ converges to the fixed point $ v^* $ regardless of\n",
    "$ v $."
   ]
  },
  {
   "cell_type": "markdown",
   "metadata": {},
   "source": [
    "### Implementation\n",
    "\n",
    "Our default for $ q $, the distribution of the state process, will be\n",
    "[Beta-binomial](https://en.wikipedia.org/wiki/Beta-binomial_distribution)."
   ]
  },
  {
   "cell_type": "code",
   "execution_count": 4,
   "metadata": {
    "hide-output": false
   },
   "outputs": [],
   "source": [
    "n, a, b = 50, 200, 100                        # default parameters\n",
    "q_default = BetaBinomial(n, a, b).pdf() # default choice of q\n",
    "w_min, w_max = 10, 60\n",
    "w_default = np.linspace(w_min, w_max, n+1)"
   ]
  },
  {
   "cell_type": "markdown",
   "metadata": {},
   "source": [
    "Our default set of values for wages will be"
   ]
  },
  {
   "cell_type": "code",
   "execution_count": 5,
   "metadata": {
    "hide-output": false
   },
   "outputs": [],
   "source": [
    "w_min, w_max = 10, 60\n",
    "w_default = np.linspace(w_min, w_max, n+1)"
   ]
  },
  {
   "cell_type": "markdown",
   "metadata": {},
   "source": [
    "Here’s a plot of the probabilities of different wage outcomes:"
   ]
  },
  {
   "cell_type": "code",
   "execution_count": 6,
   "metadata": {
    "hide-output": false
   },
   "outputs": [
    {
     "data": {
      "image/png": "[encoded data removed]",
      "text/plain": [
       "<Figure size 432x288 with 1 Axes>"
      ]
     },
     "metadata": {
      "needs_background": "light"
     },
     "output_type": "display_data"
    }
   ],
   "source": [
    "fig, ax = plt.subplots()\n",
    "ax.plot(w_default, q_default, '-o', label='$q(w(i))$')\n",
    "ax.set_xlabel('wages')\n",
    "ax.set_ylabel('probabilities')\n",
    "\n",
    "plt.show()"
   ]
  },
  {
   "cell_type": "markdown",
   "metadata": {},
   "source": [
    "We are going to use Numba to accelerate our code.\n",
    "\n",
    "- See, in particular, the discussion of `@jitclass` in [our lecture on Numba](numba.ipynb).  \n",
    "\n",
    "\n",
    "The following helps Numba by providing some type"
   ]
  },
  {
   "cell_type": "code",
   "execution_count": 7,
   "metadata": {
    "hide-output": false
   },
   "outputs": [],
   "source": [
    "mccall_data = [\n",
    "    ('c', float64),      # unemployment compensation\n",
    "    ('β', float64),      # discount factor\n",
    "    ('w', float64[:]),   # array of wage values, w[i] = wage at state i\n",
    "    ('q', float64[:])    # array of probabilities\n",
    "]"
   ]
  },
  {
   "cell_type": "markdown",
   "metadata": {},
   "source": [
    "Here’s a class that stores the data and computes the value on the right hand\n",
    "side of the Bellman equation [(4)](#equation-odu-pv2p).\n",
    "\n",
    "Default parameter values are embedded in the class."
   ]
  },
  {
   "cell_type": "code",
   "execution_count": 8,
   "metadata": {
    "hide-output": false
   },
   "outputs": [],
   "source": [
    "@jitclass(mccall_data)\n",
    "class McCallModel:\n",
    "\n",
    "    def __init__(self, c=25, β=0.99, w=w_default, q=q_default):\n",
    "\n",
    "        self.c, self.β = c, β\n",
    "        self.w, self.q = w_default, q_default\n",
    "\n",
    "    def bellman(self, i, v):\n",
    "        \"\"\"\n",
    "        The r.h.s. of the Bellman equation at state i.\n",
    "        \"\"\"\n",
    "        # Simplify names\n",
    "        c, β, w, q = self.c, self.β, self.w, self.q\n",
    "        # Evaluate right hand side of Bellman equation\n",
    "        max_value = max(w[i] / (1 - β), c + β * np.sum(v * q))\n",
    "        return(max_value)"
   ]
  },
  {
   "cell_type": "markdown",
   "metadata": {},
   "source": [
    "Based on these defaults, let’s try plotting the first few approximate value functions\n",
    "in the sequence $ \\{ T^k v \\} $.\n",
    "\n",
    "We will start from guess $ v $ given by $ v(i) = w(i) / (1 - β) $, which is the value of accepting at every given wage.\n",
    "\n",
    "Here’s a function to implement this:"
   ]
  },
  {
   "cell_type": "code",
   "execution_count": 9,
   "metadata": {
    "hide-output": false
   },
   "outputs": [],
   "source": [
    "def plot_value_function_seq(mcm, ax, num_plots=6):\n",
    "    \"\"\"\n",
    "    Plot a sequence of value functions.\n",
    "\n",
    "        * mcm is an instance of McCallModel\n",
    "        * ax is an axes object that implements a plot method.\n",
    "\n",
    "    \"\"\"\n",
    "\n",
    "    n = len(mcm.w)\n",
    "    v = mcm.w / (1 - mcm.β)\n",
    "    v_next = np.empty_like(v)\n",
    "    for i in range(num_plots):\n",
    "        ax.plot(mcm.w, v, '-', alpha=0.4, label=f\"iterate {i}\")\n",
    "        # Update guess\n",
    "        for i in range(n):\n",
    "            v_next[i] = mcm.bellman(i, v)\n",
    "        v[:] = v_next  # copy contents into v\n",
    "\n",
    "    ax.legend(loc='lower right')"
   ]
  },
  {
   "cell_type": "markdown",
   "metadata": {},
   "source": [
    "Now let’s create an instance of `McCallModel` and call the function:"
   ]
  },
  {
   "cell_type": "code",
   "execution_count": 10,
   "metadata": {
    "hide-output": false
   },
   "outputs": [
    {
     "data": {
      "image/png": "[encoded data removed]",
      "text/plain": [
       "<Figure size 432x288 with 1 Axes>"
      ]
     },
     "metadata": {
      "needs_background": "light"
     },
     "output_type": "display_data"
    }
   ],
   "source": [
    "mcm = McCallModel()\n",
    "\n",
    "fig, ax = plt.subplots()\n",
    "ax.set_xlabel('wage')\n",
    "ax.set_ylabel('value')\n",
    "plot_value_function_seq(mcm, ax)\n",
    "plt.show()"
   ]
  },
  {
   "cell_type": "markdown",
   "metadata": {},
   "source": [
    "You can see that convergence is occuring: successive iterates are getting closer together.\n",
    "\n",
    "Here’s a more serious iteration effort to compute the limit, which continues until measured deviation between successive iterates is below tol.\n",
    "\n",
    "Once we obtain a good approximation to the limit, we will use it to calculate\n",
    "the reservation wage.\n",
    "\n",
    "We’ll be using JIT compilation via Numba to turbocharge our loops."
   ]
  },
  {
   "cell_type": "code",
   "execution_count": 11,
   "metadata": {
    "hide-output": false
   },
   "outputs": [],
   "source": [
    "@jit(nopython=True)\n",
    "def compute_reservation_wage(mcm,\n",
    "                             max_iter=500,\n",
    "                             tol=1e-6):\n",
    "\n",
    "    # Simplify names\n",
    "    c, β, w, q = mcm.c, mcm.β, mcm.w, mcm.q\n",
    "\n",
    "    # == First compute the value function == #\n",
    "\n",
    "    n = len(w)\n",
    "    v = w / (1 - β)          # initial guess\n",
    "    v_next = np.empty_like(v)\n",
    "    i = 0\n",
    "    error = tol + 1\n",
    "    while i < max_iter and error > tol:\n",
    "\n",
    "        for i in range(n):\n",
    "            v_next[i] = mcm.bellman(i, v)\n",
    "\n",
    "        error = np.max(np.abs(v_next - v))\n",
    "        i += 1\n",
    "\n",
    "        v[:] = v_next  # copy contents into v\n",
    "\n",
    "    # == Now compute the reservation wage == #\n",
    "\n",
    "    return (1 - β) * (c + β * np.sum(v * q))"
   ]
  },
  {
   "cell_type": "markdown",
   "metadata": {},
   "source": [
    "The next line computes the reservation wage at the default parameters"
   ]
  },
  {
   "cell_type": "code",
   "execution_count": 12,
   "metadata": {
    "hide-output": false
   },
   "outputs": [
    {
     "data": {
      "text/plain": [
       "47.316499710024964"
      ]
     },
     "execution_count": 12,
     "metadata": {},
     "output_type": "execute_result"
    }
   ],
   "source": [
    "compute_reservation_wage(mcm)"
   ]
  },
  {
   "cell_type": "markdown",
   "metadata": {},
   "source": [
    "### Comparative Statics\n",
    "\n",
    "Now we know how to compute the reservation wage, let’s see how it varies with\n",
    "parameters.\n",
    "\n",
    "In particular, let’s look at what happens when we change $ \\beta $ and\n",
    "$ c $."
   ]
  },
  {
   "cell_type": "code",
   "execution_count": 13,
   "metadata": {
    "hide-output": false
   },
   "outputs": [],
   "source": [
    "grid_size = 25\n",
    "R = np.empty((grid_size, grid_size))\n",
    "\n",
    "c_vals = np.linspace(10.0, 30.0, grid_size)\n",
    "β_vals = np.linspace(0.9, 0.99, grid_size)\n",
    "\n",
    "for i, c in enumerate(c_vals):\n",
    "    for j, β in enumerate(β_vals):\n",
    "        mcm = McCallModel(c=c, β=β)\n",
    "        R[i, j] = compute_reservation_wage(mcm)"
   ]
  },
  {
   "cell_type": "code",
   "execution_count": 14,
   "metadata": {
    "hide-output": false
   },
   "outputs": [
    {
     "data": {
      "image/png": "[encoded data removed]",
      "text/plain": [
       "<Figure size 432x288 with 2 Axes>"
      ]
     },
     "metadata": {
      "needs_background": "light"
     },
     "output_type": "display_data"
    }
   ],
   "source": [
    "fig, ax = plt.subplots()\n",
    "\n",
    "cs1 = ax.contourf(c_vals, β_vals, R.T, alpha=0.75)\n",
    "ctr1 = ax.contour(c_vals, β_vals, R.T)\n",
    "\n",
    "plt.clabel(ctr1, inline=1, fontsize=13)\n",
    "plt.colorbar(cs1, ax=ax)\n",
    "\n",
    "\n",
    "ax.set_title(\"reservation wage\")\n",
    "ax.set_xlabel(\"$c$\", fontsize=16)\n",
    "ax.set_ylabel(\"$β$\", fontsize=16)\n",
    "\n",
    "ax.ticklabel_format(useOffset=False)\n",
    "\n",
    "plt.show()"
   ]
  },
  {
   "cell_type": "markdown",
   "metadata": {},
   "source": [
    "As expected, the reservation wage increases both with patience and with\n",
    "unemployment compensation.\n",
    "\n",
    "\n",
    "<a id='mm-op2'></a>"
   ]
  },
  {
   "cell_type": "markdown",
   "metadata": {},
   "source": [
    "## Computing the Optimal Policy: Take 2\n",
    "\n",
    "The approach to dynamic programming just described is very standard and\n",
    "broadly applicable.\n",
    "\n",
    "For this particular problem, there’s also an easier way, which circumvents the\n",
    "need to compute the value function.\n",
    "\n",
    "Let $ h $ denote the continuation value:\n",
    "\n",
    "\n",
    "<a id='equation-j1'></a>\n",
    "$$\n",
    "h\n",
    "= c + \\beta\n",
    "    \\sum_{s'} v^*(s') q (s')\n",
    "\\quad \\tag{6}\n",
    "$$\n",
    "\n",
    "The Bellman equation can now be written as\n",
    "\n",
    "$$\n",
    "v^*(s')\n",
    "= \\max \\left\\{ \\frac{w(s')}{1 - \\beta}, \\, h \\right\\}\n",
    "$$\n",
    "\n",
    "Substituting this last equation into [(6)](#equation-j1) gives\n",
    "\n",
    "\n",
    "<a id='equation-j2'></a>\n",
    "$$\n",
    "h\n",
    "= c + \\beta\n",
    "    \\sum_{s' \\in \\mathbb S}\n",
    "    \\max \\left\\{\n",
    "        \\frac{w(s')}{1 - \\beta}, h\n",
    "    \\right\\}  q (s')\n",
    "\\quad \\tag{7}\n",
    "$$\n",
    "\n",
    "This is a nonlinear equation that we can solve for $ h $.\n",
    "\n",
    "As before, we will use successive approximations:\n",
    "\n",
    "Step 1: pick an initial guess $ h $.\n",
    "\n",
    "Step 2: compute the update $ h' $ via\n",
    "\n",
    "\n",
    "<a id='equation-j3'></a>\n",
    "$$\n",
    "h'\n",
    "= c + \\beta\n",
    "    \\sum_{s' \\in \\mathbb S}\n",
    "    \\max \\left\\{\n",
    "        \\frac{w(s')}{1 - \\beta}, h\n",
    "    \\right\\}  q (s')\n",
    "\\quad \\tag{8}\n",
    "$$\n",
    "\n",
    "Step 3: calculate the deviation $ |h - h'| $.\n",
    "\n",
    "Step 4: if the deviation is larger than some fixed tolerance, set $ h = h' $ and go to step 2, else return $ h $.\n",
    "\n",
    "Once again, one can use the Banach contraction mapping theorem to show that this process always converges.\n",
    "\n",
    "The big difference here, however, is that we’re iterating on a single number, rather than an $ n $-vector.\n",
    "\n",
    "Here’s an implementation:"
   ]
  },
  {
   "cell_type": "code",
   "execution_count": 15,
   "metadata": {
    "hide-output": false
   },
   "outputs": [],
   "source": [
    "@jit(nopython=True)\n",
    "def compute_reservation_wage_two(mcm,\n",
    "                                 max_iter=500,\n",
    "                                 tol=1e-5):\n",
    "\n",
    "    # Simplify names\n",
    "    c, β, w, q = mcm.c, mcm.β, mcm.w, mcm.q\n",
    "\n",
    "    # == First compute h == #\n",
    "\n",
    "    h = np.sum(w * q) / (1 - β)\n",
    "    i = 0\n",
    "    error = tol + 1\n",
    "    while i < max_iter and error > tol:\n",
    "\n",
    "        s = np.maximum(w / (1 - β), h)\n",
    "        h_next = c + β * np.sum(s * q)\n",
    "\n",
    "        error = np.abs(h_next - h)\n",
    "        i += 1\n",
    "\n",
    "        h = h_next\n",
    "\n",
    "    # == Now compute the reservation wage == #\n",
    "\n",
    "    return (1 - β) * h"
   ]
  },
  {
   "cell_type": "markdown",
   "metadata": {},
   "source": [
    "You can use this code to solve the exercise below."
   ]
  },
  {
   "cell_type": "markdown",
   "metadata": {},
   "source": [
    "## Exercises"
   ]
  },
  {
   "cell_type": "markdown",
   "metadata": {},
   "source": [
    "### Exercise 1\n",
    "\n",
    "Compute the average duration of unemployment when $ \\beta=0.99 $ and\n",
    "$ c $ takes the following values\n",
    "\n",
    "> `c_vals = np.linspace(10, 40, 25)`\n",
    "\n",
    "\n",
    "That is, start the agent off as unemployed, compute their reservation wage\n",
    "given the parameters, and then simulate to see how long it takes to accept.\n",
    "\n",
    "Repeat a large number of times and take the average.\n",
    "\n",
    "Plot mean unemployment duration as a function of $ c $ in `c_vals`."
   ]
  },
  {
   "cell_type": "code",
   "execution_count": 48,
   "metadata": {},
   "outputs": [],
   "source": [
    "import numpy as np\n",
    "\n",
    "c_vals = np.linspace(10, 40, 25)\n",
    "  \n",
    "n, a, b = 50, 200, 100                  # default parameters\n",
    "q_default = BetaBinomial(n, a, b).pdf() # default choice of q\n",
    "\n",
    "w_min, w_max = 10, 60\n",
    "w_default = np.linspace(w_min, w_max, n+1)\n",
    "\n",
    "# we need to draw wages using the inverse transform method\n",
    "\n",
    "from numpy import cumsum\n",
    "from numpy.random import uniform\n",
    "\n",
    "spec = [('q', float64[:])]\n",
    "\n",
    "\n",
    "class DiscreteRV:\n",
    "    \"\"\"\n",
    "    Generates an array of draws from a discrete random variable with vector of\n",
    "    probabilities given by q.\n",
    "    \"\"\"\n",
    "\n",
    "    def __init__(self, q):\n",
    "        \"\"\"\n",
    "        The argument q is a NumPy array, or array like, nonnegative and sums\n",
    "        to 1\n",
    "        \"\"\"\n",
    "        self.q = q\n",
    "        self.Q = cumsum(q)\n",
    "\n",
    "    def draw(self, k=1):\n",
    "        \"\"\"\n",
    "        Returns k draws from q. For each such draw, the value i is returned\n",
    "        with probability q[i].\n",
    "        \"\"\"\n",
    "        return self.Q.searchsorted(uniform(0, 1, size=k))[0]\n",
    "\n",
    "\n",
    "T = 100\n",
    "\n",
    "mean_stopped = []\n",
    "\n",
    "for c in c_vals:   \n",
    "    # defininf a McCall Model\n",
    "    mcm = McCallModel(c=c, β=0.99)\n",
    "    # reservation wage\n",
    "    w_r = compute_reservation_wage(mcm)\n",
    "    counter = 0\n",
    "    for i in range(T):\n",
    "        w = DiscreteRV(q_default).draw() + 10\n",
    "        if w >= w_r:\n",
    "            m = np.array(counter).\n",
    "            mean_stopped.append(m)\n",
    "            break\n",
    "        else:\n",
    "            counter +=1\n",
    "    "
   ]
  },
  {
   "cell_type": "code",
   "execution_count": 49,
   "metadata": {},
   "outputs": [
    {
     "data": {
      "text/plain": [
       "[<matplotlib.lines.Line2D at 0x124eb69e8>]"
      ]
     },
     "execution_count": 49,
     "metadata": {},
     "output_type": "execute_result"
    },
    {
     "data": {
      "image/png": "[encoded data removed]",
      "text/plain": [
       "<Figure size 432x288 with 1 Axes>"
      ]
     },
     "metadata": {
      "needs_background": "light"
     },
     "output_type": "display_data"
    }
   ],
   "source": [
    "plt.plot(c_vals, mean_stopped)"
   ]
  },
  {
   "cell_type": "code",
   "execution_count": 28,
   "metadata": {},
   "outputs": [
    {
     "data": {
      "text/plain": [
       "array([1.17916374e-21, 7.91385058e-20, 2.63322684e-18, 5.78951642e-17,\n",
       "       9.45852331e-16, 1.22425907e-14, 1.30715161e-13, 1.18361860e-12,\n",
       "       9.27411020e-12, 6.38444655e-11, 3.90773732e-10, 2.14682757e-09,\n",
       "       1.06680218e-08, 4.82546790e-08, 1.99734835e-07, 7.59880083e-07,\n",
       "       2.66702315e-06, 8.66281202e-06, 2.61087529e-05, 7.31758378e-05,\n",
       "       1.91073370e-04, 4.65516517e-04, 1.05947988e-03, 2.25461382e-03,\n",
       "       4.48909716e-03, 8.36624059e-03, 1.45968062e-02, 2.38401316e-02,\n",
       "       3.64371566e-02, 5.20857161e-02, 6.95778357e-02, 8.67601096e-02,\n",
       "       1.00844841e-01, 1.09072276e-01, 1.09542415e-01, 1.01894858e-01,\n",
       "       8.75193404e-02, 6.91614209e-02, 5.00672786e-02, 3.30312192e-02,\n",
       "       1.97361535e-02, 1.05989636e-02, 5.06815521e-03, 2.13256868e-03,\n",
       "       7.77765720e-04, 2.40983918e-04, 6.17067935e-05, 1.25427566e-05,\n",
       "       1.89832162e-06, 1.90254097e-07, 9.47465401e-09])"
      ]
     },
     "execution_count": 28,
     "metadata": {},
     "output_type": "execute_result"
    }
   ],
   "source": [
    "q_default"
   ]
  },
  {
   "cell_type": "markdown",
   "metadata": {},
   "source": [
    "### Exercise 2\n",
    "\n",
    "The purpose of this exercise is to show how to replace the discrete wage\n",
    "offer distribution used above with a continuous distribution.\n",
    "\n",
    "This is a significant topic because many convenient distributions are\n",
    "continuous (i.e., have a density).\n",
    "\n",
    "Fortunately, the theory changes little in our simple model.\n",
    "\n",
    "Recall that $ h $ in [(6)](#equation-j1) denotes the value of not accepting a job in this period but\n",
    "then behaving optimally in all subsequent periods:\n",
    "\n",
    "To shift to a continuous offer distribution, we can replace [(6)](#equation-j1) by\n",
    "\n",
    "\n",
    "<a id='equation-j1c'></a>\n",
    "$$\n",
    "h\n",
    "= c + \\beta\n",
    "    \\int v^*(s') q (s') ds'.\n",
    "\\quad \\tag{9}\n",
    "$$\n",
    "\n",
    "Equation [(7)](#equation-j2) becomes\n",
    "\n",
    "\n",
    "<a id='equation-j2c'></a>\n",
    "$$\n",
    "h\n",
    "= c + \\beta\n",
    "    \\int\n",
    "    \\max \\left\\{\n",
    "        \\frac{w(s')}{1 - \\beta}, h\n",
    "    \\right\\}  q (s') d s'\n",
    "\\quad \\tag{10}\n",
    "$$\n",
    "\n",
    "The aim is to solve this nonlinear equation by iteration, and from it obtain\n",
    "the reservation wage.\n",
    "\n",
    "Try to carry this out, setting\n",
    "\n",
    "- the state sequence $ \\{ s_t \\} $ to be IID and standard normal and  \n",
    "- the wage function to be $ w(s) = \\exp(\\mu + \\sigma s) $.  \n",
    "\n",
    "\n",
    "You will need to implement a new version of the `McCallModel` class that\n",
    "assumes a lognormal wage distribution.\n",
    "\n",
    "Calculate the integral by Monte Carlo, by averaging over a large number of wage draws.\n",
    "\n",
    "For default parameters, use `c=25, β=0.99, σ=0.5, μ=2.5`.\n",
    "\n",
    "Once your code is working, investigate how the reservation wage changes with $ c $ and $ \\beta $."
   ]
  }
 ],
 "metadata": {
  "date": 1576637220.1738348,
  "filename": "mccall_model.rst",
  "kernelspec": {
   "display_name": "Python 3",
   "language": "python",
   "name": "python3"
  },
  "title": "Job Search I: The McCall Search Model"
 },
 "nbformat": 4,
 "nbformat_minor": 2
}
